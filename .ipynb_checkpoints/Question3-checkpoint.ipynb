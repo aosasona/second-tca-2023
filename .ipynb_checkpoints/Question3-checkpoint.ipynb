{
 "cells": [
  {
   "cell_type": "code",
   "execution_count": 5,
   "id": "a331687b",
   "metadata": {},
   "outputs": [],
   "source": [
    "population = {\"England\":55550138, \"Scotland\":5466000, \"Wales\":3169586, \"Northern Ireland\":1895510}"
   ]
  },
  {
   "cell_type": "code",
   "execution_count": 4,
   "id": "d35277aa",
   "metadata": {},
   "outputs": [],
   "source": [
    "area = {\"England\":130309, \"Scotland\":77911, \"Wales\":20736, \"Northern Ireland\":13793}"
   ]
  },
  {
   "cell_type": "code",
   "execution_count": 10,
   "id": "88016aef",
   "metadata": {},
   "outputs": [],
   "source": [
    "import pandas"
   ]
  },
  {
   "cell_type": "code",
   "execution_count": 11,
   "id": "fcfa9acc",
   "metadata": {},
   "outputs": [],
   "source": [
    "data_frame = pandas.DataFrame({\"area\": area, \"population\": population})"
   ]
  },
  {
   "cell_type": "code",
   "execution_count": 12,
   "id": "b3b90f17",
   "metadata": {},
   "outputs": [],
   "source": [
    "data_frame = data_frame[[\"area\", \"population\"]]"
   ]
  },
  {
   "cell_type": "code",
   "execution_count": 13,
   "id": "0f60c63c",
   "metadata": {},
   "outputs": [
    {
     "data": {
      "text/html": [
       "<div>\n",
       "<style scoped>\n",
       "    .dataframe tbody tr th:only-of-type {\n",
       "        vertical-align: middle;\n",
       "    }\n",
       "\n",
       "    .dataframe tbody tr th {\n",
       "        vertical-align: top;\n",
       "    }\n",
       "\n",
       "    .dataframe thead th {\n",
       "        text-align: right;\n",
       "    }\n",
       "</style>\n",
       "<table border=\"1\" class=\"dataframe\">\n",
       "  <thead>\n",
       "    <tr style=\"text-align: right;\">\n",
       "      <th></th>\n",
       "      <th>area</th>\n",
       "      <th>population</th>\n",
       "    </tr>\n",
       "  </thead>\n",
       "  <tbody>\n",
       "    <tr>\n",
       "      <th>England</th>\n",
       "      <td>130309</td>\n",
       "      <td>55550138</td>\n",
       "    </tr>\n",
       "    <tr>\n",
       "      <th>Scotland</th>\n",
       "      <td>77911</td>\n",
       "      <td>5466000</td>\n",
       "    </tr>\n",
       "    <tr>\n",
       "      <th>Wales</th>\n",
       "      <td>20736</td>\n",
       "      <td>3169586</td>\n",
       "    </tr>\n",
       "    <tr>\n",
       "      <th>Northern Ireland</th>\n",
       "      <td>13793</td>\n",
       "      <td>1895510</td>\n",
       "    </tr>\n",
       "  </tbody>\n",
       "</table>\n",
       "</div>"
      ],
      "text/plain": [
       "                    area  population\n",
       "England           130309    55550138\n",
       "Scotland           77911     5466000\n",
       "Wales              20736     3169586\n",
       "Northern Ireland   13793     1895510"
      ]
     },
     "execution_count": 13,
     "metadata": {},
     "output_type": "execute_result"
    }
   ],
   "source": [
    "data_frame"
   ]
  },
  {
   "cell_type": "code",
   "execution_count": null,
   "id": "6b08e25c",
   "metadata": {},
   "outputs": [],
   "source": []
  }
 ],
 "metadata": {
  "kernelspec": {
   "display_name": "Python 3 (ipykernel)",
   "language": "python",
   "name": "python3"
  },
  "language_info": {
   "codemirror_mode": {
    "name": "ipython",
    "version": 3
   },
   "file_extension": ".py",
   "mimetype": "text/x-python",
   "name": "python",
   "nbconvert_exporter": "python",
   "pygments_lexer": "ipython3",
   "version": "3.10.7"
  }
 },
 "nbformat": 4,
 "nbformat_minor": 5
}
